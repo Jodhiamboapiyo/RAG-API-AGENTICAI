{
 "cells": [
  {
   "cell_type": "code",
   "execution_count": 6,
   "id": "5a9c5fcd",
   "metadata": {},
   "outputs": [
    {
     "name": "stdout",
     "output_type": "stream",
     "text": [
      "Weather data retrieved successfully!\n",
      "\n",
      "         time  temperature_2m_max  temperature_2m_min  precipitation_sum  \\\n",
      "0  2025-10-19                23.9                14.2                0.0   \n",
      "1  2025-10-20                24.9                12.5                0.0   \n",
      "2  2025-10-21                25.3                13.1                0.8   \n",
      "3  2025-10-22                23.0                15.1                0.5   \n",
      "4  2025-10-23                23.7                15.5                6.3   \n",
      "\n",
      "   cloud_cover_mean  \n",
      "0                74  \n",
      "1                63  \n",
      "2                60  \n",
      "3                86  \n",
      "4                84  \n"
     ]
    }
   ],
   "source": [
    "import requests\n",
    "import pandas as pd\n",
    "\n",
    "# Coordinates for lets say Nairobi\n",
    "latitude = -1.286389\n",
    "longitude = 36.817223\n",
    "\n",
    "# Open-Meteo endpoint\n",
    "url = \"https://api.open-meteo.com/v1/forecast\"\n",
    "\n",
    "# Parameters for the request\n",
    "params = {\n",
    "    \"latitude\": latitude,\n",
    "    \"longitude\": longitude,\n",
    "    \"daily\": [\"temperature_2m_max\", \"temperature_2m_min\", \"precipitation_sum\", \"cloud_cover_mean\"],\n",
    "    \"timezone\": \"Africa/Nairobi\"\n",
    "}\n",
    "\n",
    "# API request\n",
    "response = requests.get(url, params=params)\n",
    "\n",
    "if response.status_code == 200:\n",
    "    data = response.json()\n",
    "    print(\"Weather data retrieved successfully!\\n\")\n",
    "\n",
    "    # Convert to DF for analysis\n",
    "    daily = data[\"daily\"]\n",
    "    df = pd.DataFrame(daily)\n",
    "    print(df.head(5))\n",
    "else:\n",
    "    print(\"Failed to retrieve data:\", response.status_code, response.text)\n"
   ]
  },
  {
   "cell_type": "code",
   "execution_count": null,
   "id": "d53dbde4",
   "metadata": {},
   "outputs": [],
   "source": []
  }
 ],
 "metadata": {
  "kernelspec": {
   "display_name": "rag_env",
   "language": "python",
   "name": "python3"
  },
  "language_info": {
   "codemirror_mode": {
    "name": "ipython",
    "version": 3
   },
   "file_extension": ".py",
   "mimetype": "text/x-python",
   "name": "python",
   "nbconvert_exporter": "python",
   "pygments_lexer": "ipython3",
   "version": "3.10.18"
  }
 },
 "nbformat": 4,
 "nbformat_minor": 5
}
