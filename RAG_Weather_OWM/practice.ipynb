{
 "cells": [
  {
   "cell_type": "code",
   "execution_count": 20,
   "id": "57ffc80a",
   "metadata": {},
   "outputs": [
    {
     "name": "stdout",
     "output_type": "stream",
     "text": [
      "Your API Key is loaded: de8f1a0d********\n"
     ]
    }
   ],
   "source": [
    "import os\n",
    "from dotenv import load_dotenv\n",
    "\n",
    "# Load the .env file\n",
    "load_dotenv()\n",
    "\n",
    "# Access your API key\n",
    "api_key = os.getenv(\"OPENWEATHER_API_KEY\")\n",
    "\n",
    "print(\"Your API Key is loaded:\", api_key[:8] + \"********\")\n",
    "\n",
    "# Now you can use the api_key variable in your application logic    \n",
    "latitude = -1.286389\n",
    "longitude = 36.817223"
   ]
  },
  {
   "cell_type": "code",
   "execution_count": null,
   "id": "a38d809f",
   "metadata": {},
   "outputs": [],
   "source": [
    "#Now let us have the API make a call to OpenWeatherMap to get the weather data for Nairobi, Kenya\n",
    "url= \"https://api.openweathermap.org/data/2.5/forecast\"\n",
    "\n",
    "params = {\n",
    "    \"lat\": latitude,\n",
    "    \"lon\": longitude,\n",
    "    \"exclude\": \"minutely,hourly,alerts\", \n",
    "    \"units\": \"metric\",  \n",
    "    \"appid\": api_key\n",
    "}\n"
   ]
  },
  {
   "cell_type": "code",
   "execution_count": 25,
   "id": "4af95678",
   "metadata": {},
   "outputs": [
    {
     "name": "stdout",
     "output_type": "stream",
     "text": [
      "Status code: 401\n"
     ]
    }
   ],
   "source": [
    "# Make the API call\n",
    "import requests\n",
    "response = requests.get(url, params=params)\n",
    "print(\"Status code:\", response.status_code)"
   ]
  },
  {
   "cell_type": "markdown",
   "id": "9476d1dc",
   "metadata": {},
   "source": [
    "401 error (Unauthorized) means OpenWeather is rejecting your request because the API endpoint or key doesn’t match the plan."
   ]
  },
  {
   "cell_type": "code",
   "execution_count": null,
   "id": "18dccc39",
   "metadata": {},
   "outputs": [],
   "source": []
  }
 ],
 "metadata": {
  "kernelspec": {
   "display_name": "rag_env",
   "language": "python",
   "name": "python3"
  },
  "language_info": {
   "codemirror_mode": {
    "name": "ipython",
    "version": 3
   },
   "file_extension": ".py",
   "mimetype": "text/x-python",
   "name": "python",
   "nbconvert_exporter": "python",
   "pygments_lexer": "ipython3",
   "version": "3.10.18"
  }
 },
 "nbformat": 4,
 "nbformat_minor": 5
}
